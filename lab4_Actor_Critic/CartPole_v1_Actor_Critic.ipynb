{
  "cells": [
    {
      "cell_type": "markdown",
      "metadata": {
        "collapsed": false,
        "id": "vtWE6LNSkCB5"
      },
      "source": [
        "# Actor-Critic Algorithm\n",
        "In this notebook, you'll code The Actor-Critic Algorithm from scratch: .\n",
        "\n",
        "Actor-Critic algorithm is a *Policy-based method* that aims to reduce the variance of the Reinforce algorithm and train our agent faster and better by using a combination of Policy-Based and Value-Based methods\n",
        "\n",
        "\n",
        "To test its robustness, we're going to train it in Cartpole-v1 environment"
      ]
    },
    {
      "cell_type": "markdown",
      "metadata": {
        "collapsed": false,
        "id": "JKRGifpzkCB7"
      },
      "source": [
        "## Import the packages"
      ]
    },
    {
      "cell_type": "code",
      "execution_count": 1,
      "metadata": {
        "id": "YPwr54F1kCB8",
        "colab": {
          "base_uri": "https://localhost:8080/"
        },
        "outputId": "d6b5d3b1-129f-4b77-e00a-c3efc01a82ef"
      },
      "outputs": [
        {
          "output_type": "stream",
          "name": "stdout",
          "text": [
            "Requirement already satisfied: swig in /usr/local/lib/python3.10/dist-packages (4.3.0)\n",
            "Requirement already satisfied: gymnasium[box2d] in /usr/local/lib/python3.10/dist-packages (1.0.0)\n",
            "Requirement already satisfied: numpy>=1.21.0 in /usr/local/lib/python3.10/dist-packages (from gymnasium[box2d]) (1.26.4)\n",
            "Requirement already satisfied: cloudpickle>=1.2.0 in /usr/local/lib/python3.10/dist-packages (from gymnasium[box2d]) (3.1.0)\n",
            "Requirement already satisfied: typing-extensions>=4.3.0 in /usr/local/lib/python3.10/dist-packages (from gymnasium[box2d]) (4.12.2)\n",
            "Requirement already satisfied: farama-notifications>=0.0.1 in /usr/local/lib/python3.10/dist-packages (from gymnasium[box2d]) (0.0.4)\n",
            "Requirement already satisfied: box2d-py==2.3.5 in /usr/local/lib/python3.10/dist-packages (from gymnasium[box2d]) (2.3.5)\n",
            "Requirement already satisfied: pygame>=2.1.3 in /usr/local/lib/python3.10/dist-packages (from gymnasium[box2d]) (2.6.1)\n",
            "Requirement already satisfied: swig==4.* in /usr/local/lib/python3.10/dist-packages (from gymnasium[box2d]) (4.3.0)\n",
            "Requirement already satisfied: gymnasium in /usr/local/lib/python3.10/dist-packages (1.0.0)\n",
            "Requirement already satisfied: numpy>=1.21.0 in /usr/local/lib/python3.10/dist-packages (from gymnasium) (1.26.4)\n",
            "Requirement already satisfied: cloudpickle>=1.2.0 in /usr/local/lib/python3.10/dist-packages (from gymnasium) (3.1.0)\n",
            "Requirement already satisfied: typing-extensions>=4.3.0 in /usr/local/lib/python3.10/dist-packages (from gymnasium) (4.12.2)\n",
            "Requirement already satisfied: farama-notifications>=0.0.1 in /usr/local/lib/python3.10/dist-packages (from gymnasium) (0.0.4)\n"
          ]
        }
      ],
      "source": [
        "!pip install swig\n",
        "!pip install gymnasium[box2d]\n",
        "!pip install gymnasium"
      ]
    },
    {
      "cell_type": "code",
      "execution_count": 2,
      "metadata": {
        "id": "sTVJ_PtwkCB8"
      },
      "outputs": [],
      "source": [
        "import numpy as np\n",
        "import pandas as pd\n",
        "from collections import deque\n",
        "import matplotlib.pyplot as plt\n",
        "\n",
        "# PyTorch\n",
        "import torch\n",
        "import torch.nn as nn\n",
        "import torch.nn.functional as F\n",
        "import torch.optim as optim\n",
        "from torch.distributions import Categorical\n",
        "\n",
        "# Gym\n",
        "import gymnasium as gym\n"
      ]
    },
    {
      "cell_type": "markdown",
      "metadata": {
        "collapsed": false,
        "id": "_IFFdnoEkCB9"
      },
      "source": [
        "## Check if we have a GPU\n",
        "- Let's check if we have a GPU `device:cuda0`"
      ]
    },
    {
      "cell_type": "code",
      "execution_count": 3,
      "metadata": {
        "id": "ifNzeQN9kCB9"
      },
      "outputs": [],
      "source": [
        "device = torch.device(\"cuda:0\" if torch.cuda.is_available() else \"cpu\")"
      ]
    },
    {
      "cell_type": "markdown",
      "metadata": {
        "collapsed": false,
        "id": "fzUMlSHZkCB-"
      },
      "source": [
        "# Agent: Playing CartPole-v1 🤖\n",
        "### The CartPole-v1 environment\n",
        "\n",
        "> A pole is attached by an un-actuated joint to a cart, which moves along a frictionless track. The pendulum is placed upright on the cart and the goal is to balance the pole by applying forces in the left and right direction on the cart.\n",
        "\n",
        "So, we start with CartPole-v1. The goal is to push the cart left or right **so that the pole stays in the equilibrium.**\n",
        "\n",
        "The episode ends if:\n",
        "- The pole Angle is greater than ±12°\n",
        "- Cart Position is greater than ±2.4\n",
        "- Episode length is greater than 500\n",
        "\n",
        "We get a reward 💰 of +1 every timestep the Pole stays in the equilibrium."
      ]
    },
    {
      "cell_type": "code",
      "execution_count": 4,
      "metadata": {
        "id": "PeZ_2RQYkCB-"
      },
      "outputs": [],
      "source": [
        "env_id = \"CartPole-v1\"\n",
        "#env_id=\"LunarLander-v2\"\n",
        "# Create the env\n",
        "env = gym.make(env_id)\n",
        "\n",
        "\n",
        "# Get the state space and action space\n",
        "s_size = env.observation_space.shape[0]\n",
        "a_size = env.action_space.n"
      ]
    },
    {
      "cell_type": "markdown",
      "metadata": {
        "collapsed": false,
        "id": "Mn7OF5bvkCB_"
      },
      "source": [
        "## Let's build the A2C algo\n"
      ]
    },
    {
      "cell_type": "code",
      "execution_count": 5,
      "metadata": {
        "id": "45sFPXAikCB_"
      },
      "outputs": [],
      "source": [
        "#Using a neural network to learn our actor (policy) parameters\n",
        "\n",
        "class Actor(nn.Module):\n",
        "    def __init__(self, s_size, a_size, h_size):\n",
        "        super(Actor, self).__init__()\n",
        "        self.fc1 = nn.Linear(s_size, h_size)\n",
        "        self.fc2 = nn.Linear(h_size, a_size)\n",
        "\n",
        "    def forward(self, x):\n",
        "        x = F.relu(self.fc1(x))\n",
        "        x = self.fc2(x)\n",
        "        return F.softmax(x, dim=1)\n",
        "\n",
        "    def act(self, state):\n",
        "\n",
        "        probs = self.forward(state)\n",
        "        m = Categorical(probs)\n",
        "        action = m.sample()\n",
        "        return action.item(), m.log_prob(action)"
      ]
    },
    {
      "cell_type": "code",
      "execution_count": 6,
      "metadata": {
        "id": "0h8VYnDIkCB_"
      },
      "outputs": [],
      "source": [
        "#Using a neural network to learn state value\n",
        "class Critic(nn.Module):\n",
        "\n",
        "    #Takes in state\n",
        "    def __init__(self, s_size, h_size):\n",
        "        super(Critic, self).__init__()\n",
        "\n",
        "        # two fully connected layers\n",
        "        self.input_layer = nn.Linear(s_size, h_size)\n",
        "        self.output_layer = nn.Linear(h_size, 1)\n",
        "\n",
        "    def forward(self, x):\n",
        "\n",
        "        #input layer\n",
        "        x = self.input_layer(x)\n",
        "\n",
        "        #activiation relu\n",
        "        x = F.relu(x)\n",
        "\n",
        "        #get state value\n",
        "        state_value = self.output_layer(x)\n",
        "\n",
        "        return state_value\n"
      ]
    },
    {
      "cell_type": "markdown",
      "metadata": {
        "collapsed": false,
        "id": "Gl2dNG_dkCCA"
      },
      "source": [
        "# Building the parts of our algorithm #\n",
        "The main steps for building a A2C Algo are:\n",
        "1. Generates a trajectory\n",
        "2. Compute the discounted returns\n",
        "3. Standardization of the returns\n",
        "4. Train critic network\n",
        "5. Train actor network\n",
        "\n"
      ]
    },
    {
      "cell_type": "code",
      "execution_count": 7,
      "metadata": {
        "id": "uED6LTZIkCCA"
      },
      "outputs": [],
      "source": [
        " def generate_trajectory(actor, critic, max_t):\n",
        "        saved_log_probs = []\n",
        "        rewards = []\n",
        "        state_values=[]\n",
        "\n",
        "        state, _ = env.reset()\n",
        "        for t in range(max_t):\n",
        "            state=torch.from_numpy(state).float().unsqueeze(0).to(device)\n",
        "\n",
        "            action, log_prob = actor.act(state)\n",
        "\n",
        "\n",
        "\n",
        "            # get the state value from th critic network\n",
        "            state_val= critic(state)\n",
        "\n",
        "\n",
        "            next_state, reward, done,truncated , _ = env.step(action)\n",
        "\n",
        "            # add te obtained results to their relative lists ==> saved_log_probs, rewards, state_values\n",
        "            rewards.append(reward)\n",
        "            saved_log_probs.append(log_prob)\n",
        "            state_values.append(state_val)\n",
        "            # add code here\n",
        "            # add code here\n",
        "            # add code here\n",
        "\n",
        "            state=next_state\n",
        "\n",
        "            if done:\n",
        "\n",
        "                break\n",
        "\n",
        "        return  saved_log_probs, rewards, state_values"
      ]
    },
    {
      "cell_type": "code",
      "execution_count": 8,
      "metadata": {
        "id": "WTWJTxUykCCA"
      },
      "outputs": [],
      "source": [
        "def computer_cumulative_reward(rewards, max_t,gamma):\n",
        "\n",
        "        returns = deque(maxlen=max_t)\n",
        "        n_steps = len(rewards)\n",
        "        for t in range(n_steps)[::-1]:\n",
        "          disc_return_t = (returns[0] if len(returns)>0 else 0)\n",
        "          returns.appendleft( rewards[t]+gamma*disc_return_t)\n",
        "        return returns"
      ]
    },
    {
      "cell_type": "code",
      "execution_count": 9,
      "metadata": {
        "id": "VPJ-q3ARkCCA"
      },
      "outputs": [],
      "source": [
        "def returns_standardization(returns):\n",
        "        eps = np.finfo(np.float32).eps.item()\n",
        "        ## eps is the smallest representable float, which is\n",
        "        # added to the standard deviation of the returns to avoid numerical instabilities\n",
        "        returns = torch.tensor(returns).to(device)\n",
        "        returns = (returns - returns.mean()) / (returns.std() + eps)\n",
        "\n",
        "        return returns"
      ]
    },
    {
      "cell_type": "code",
      "execution_count": 10,
      "metadata": {
        "id": "UJdIdV53kCCA"
      },
      "outputs": [],
      "source": [
        "\n",
        "def train_actor(actorOptimizer,saved_log_probs, returns,state_values):\n",
        "\n",
        "\n",
        "        state_values= torch.stack(state_values).squeeze()\n",
        "\n",
        "        #calculate Advantage for actor\n",
        "        advantages = returns - state_values.detach()\n",
        "\n",
        "        #convect the advantages to a tensor\n",
        "        advantages = torch.tensor(advantages).to(device)\n",
        "\n",
        "        actor_loss = []\n",
        "        # compute the actor loss\n",
        "        for log_prob, advantage in zip(saved_log_probs, advantages):\n",
        "            actor_loss.append(-log_prob * advantage)\n",
        "\n",
        "\n",
        "        actor_loss = torch.cat(actor_loss).sum()\n",
        "        # Backpropagate actor\n",
        "        actorOptimizer.zero_grad()\n",
        "        actor_loss.backward()\n",
        "        actorOptimizer.step()\n",
        "\n"
      ]
    },
    {
      "cell_type": "code",
      "execution_count": 11,
      "metadata": {
        "id": "B92Q871lkCCB"
      },
      "outputs": [],
      "source": [
        "\n",
        "def train_critic(criticOptimizer, returns,state_values):\n",
        "        state_values= torch.stack(state_values).squeeze()\n",
        "\n",
        "        critic_loss=F.mse_loss(state_values,returns)\n",
        "\n",
        "        # Backpropagate crtic\n",
        "        criticOptimizer.zero_grad()\n",
        "        critic_loss.backward()\n",
        "        criticOptimizer.step()\n"
      ]
    },
    {
      "cell_type": "markdown",
      "metadata": {
        "collapsed": false,
        "id": "agouOUvJkCCB"
      },
      "source": [
        "## Merge all functions into the Actor_Critic method ##\n",
        "\n",
        "You will now see how the overall **A2C Algo** is structured by putting together all the building blocks (functions implemented in the previous parts) together, in the right order."
      ]
    },
    {
      "cell_type": "code",
      "execution_count": 12,
      "metadata": {
        "id": "dYI4v925kCCB"
      },
      "outputs": [],
      "source": [
        "def Actor_Critic(actor,critic, actorOptimizer,criticOptimizer, n_training_episodes, max_t, gamma, print_every):\n",
        "    # Help us to calculate the score during the training\n",
        "    scores_deque = deque(maxlen=100)\n",
        "    scores = []\n",
        "\n",
        "    for i_episode in range(1, n_training_episodes+1):\n",
        "\n",
        "        # Generate an episode\n",
        "        saved_log_probs, rewards, state_values = generate_trajectory(actor, critic, max_t)\n",
        "        scores_deque.append(sum(rewards))\n",
        "        scores.append(sum(rewards))\n",
        "\n",
        "        # calculate the return\n",
        "        returns= computer_cumulative_reward(rewards,max_t,gamma)\n",
        "\n",
        "        ## standardization of the returns is employed to make training more stable\n",
        "        returns=returns_standardization(returns)\n",
        "\n",
        "        # Train the Critic network\n",
        "        train_critic(criticOptimizer, returns,state_values)\n",
        "        #add code here\n",
        "\n",
        "        # Train the Actor network\n",
        "        train_actor(actorOptimizer,saved_log_probs, returns,state_values)\n",
        "        #add code here\n",
        "\n",
        "\n",
        "\n",
        "        if i_episode % print_every == 0:\n",
        "            print('Episode {}\\tAverage Score: {:.2f}'.format(i_episode, np.mean(scores_deque)))\n",
        "\n",
        "    return scores"
      ]
    },
    {
      "cell_type": "markdown",
      "metadata": {
        "collapsed": false,
        "id": "yntfWARKkCCC"
      },
      "source": [
        "##  Train it\n",
        "- We're now ready to train our agent.\n",
        "- But first, we define a variable containing all the training hyperparameters.\n",
        "- You can change the training parameters (and should 😉)"
      ]
    },
    {
      "cell_type": "code",
      "execution_count": 13,
      "metadata": {
        "id": "QE1YFOawkCCC"
      },
      "outputs": [],
      "source": [
        "cartpole_hyperparameters = {\n",
        "    \"h_size\": 64,\n",
        "    \"n_training_episodes\": 1000,\n",
        "    \"n_evaluation_episodes\": 10,\n",
        "    \"max_t\": 1000,\n",
        "    \"gamma\": 1.0,\n",
        "    \"lr\": 1e-2,\n",
        "    \"env_id\": env_id,\n",
        "    \"state_space\": s_size,\n",
        "    \"action_space\": a_size,\n",
        "}"
      ]
    },
    {
      "cell_type": "code",
      "execution_count": 14,
      "metadata": {
        "id": "934yqbQHkCCC"
      },
      "outputs": [],
      "source": [
        "# Create actor and place it to the device\n",
        "cartpole_actor = Actor(cartpole_hyperparameters[\"state_space\"], cartpole_hyperparameters[\"action_space\"], cartpole_hyperparameters[\"h_size\"]).to(device)\n",
        "\n",
        "cartpole_actorOptimizer = optim.Adam(cartpole_actor.parameters(), lr=cartpole_hyperparameters[\"lr\"])"
      ]
    },
    {
      "cell_type": "code",
      "execution_count": 15,
      "metadata": {
        "id": "t4L8YuHOkCCC"
      },
      "outputs": [],
      "source": [
        "# Create critic and place it to the device\n",
        "cartpole_critic = Critic(cartpole_hyperparameters[\"state_space\"], cartpole_hyperparameters[\"h_size\"]).to(device)\n",
        "cartpole_criticOptimizer = optim.Adam(cartpole_critic.parameters(), lr=cartpole_hyperparameters[\"lr\"])"
      ]
    },
    {
      "cell_type": "code",
      "execution_count": 16,
      "metadata": {
        "pycharm": {
          "is_executing": true
        },
        "id": "GhKZBRXEkCCD",
        "colab": {
          "base_uri": "https://localhost:8080/"
        },
        "outputId": "bd1eb9fd-4e8f-4e0a-9a94-5fff68f6ffb2"
      },
      "outputs": [
        {
          "output_type": "stream",
          "name": "stderr",
          "text": [
            "<ipython-input-10-acedaa970d6b>:10: UserWarning: To copy construct from a tensor, it is recommended to use sourceTensor.clone().detach() or sourceTensor.clone().detach().requires_grad_(True), rather than torch.tensor(sourceTensor).\n",
            "  advantages = torch.tensor(advantages).to(device)\n"
          ]
        },
        {
          "output_type": "stream",
          "name": "stdout",
          "text": [
            "Episode 100\tAverage Score: 62.41\n",
            "Episode 200\tAverage Score: 288.01\n",
            "Episode 300\tAverage Score: 525.50\n",
            "Episode 400\tAverage Score: 881.54\n",
            "Episode 500\tAverage Score: 1000.00\n",
            "Episode 600\tAverage Score: 950.85\n",
            "Episode 700\tAverage Score: 990.16\n",
            "Episode 800\tAverage Score: 972.60\n",
            "Episode 900\tAverage Score: 1000.00\n",
            "Episode 1000\tAverage Score: 705.78\n"
          ]
        }
      ],
      "source": [
        "scores = Actor_Critic(cartpole_actor,\n",
        "                   cartpole_critic,cartpole_actorOptimizer,cartpole_criticOptimizer,\n",
        "                   cartpole_hyperparameters[\"n_training_episodes\"],\n",
        "                   cartpole_hyperparameters[\"max_t\"],\n",
        "                   cartpole_hyperparameters[\"gamma\"],\n",
        "                   100)"
      ]
    },
    {
      "cell_type": "code",
      "execution_count": 17,
      "metadata": {
        "pycharm": {
          "is_executing": true
        },
        "id": "kMl4nQMekCCD",
        "colab": {
          "base_uri": "https://localhost:8080/",
          "height": 335
        },
        "outputId": "739735ac-d3f7-4c60-b2c1-90ee106d2bd2"
      },
      "outputs": [
        {
          "output_type": "execute_result",
          "data": {
            "text/plain": [
              "count    1000.000000\n",
              "mean      737.685000\n",
              "std       391.784897\n",
              "min         8.000000\n",
              "25%       260.500000\n",
              "50%      1000.000000\n",
              "75%      1000.000000\n",
              "max      1000.000000\n",
              "Name: scores_Actor, dtype: float64"
            ],
            "text/html": [
              "<div>\n",
              "<style scoped>\n",
              "    .dataframe tbody tr th:only-of-type {\n",
              "        vertical-align: middle;\n",
              "    }\n",
              "\n",
              "    .dataframe tbody tr th {\n",
              "        vertical-align: top;\n",
              "    }\n",
              "\n",
              "    .dataframe thead th {\n",
              "        text-align: right;\n",
              "    }\n",
              "</style>\n",
              "<table border=\"1\" class=\"dataframe\">\n",
              "  <thead>\n",
              "    <tr style=\"text-align: right;\">\n",
              "      <th></th>\n",
              "      <th>scores_Actor</th>\n",
              "    </tr>\n",
              "  </thead>\n",
              "  <tbody>\n",
              "    <tr>\n",
              "      <th>count</th>\n",
              "      <td>1000.000000</td>\n",
              "    </tr>\n",
              "    <tr>\n",
              "      <th>mean</th>\n",
              "      <td>737.685000</td>\n",
              "    </tr>\n",
              "    <tr>\n",
              "      <th>std</th>\n",
              "      <td>391.784897</td>\n",
              "    </tr>\n",
              "    <tr>\n",
              "      <th>min</th>\n",
              "      <td>8.000000</td>\n",
              "    </tr>\n",
              "    <tr>\n",
              "      <th>25%</th>\n",
              "      <td>260.500000</td>\n",
              "    </tr>\n",
              "    <tr>\n",
              "      <th>50%</th>\n",
              "      <td>1000.000000</td>\n",
              "    </tr>\n",
              "    <tr>\n",
              "      <th>75%</th>\n",
              "      <td>1000.000000</td>\n",
              "    </tr>\n",
              "    <tr>\n",
              "      <th>max</th>\n",
              "      <td>1000.000000</td>\n",
              "    </tr>\n",
              "  </tbody>\n",
              "</table>\n",
              "</div><br><label><b>dtype:</b> float64</label>"
            ]
          },
          "metadata": {},
          "execution_count": 17
        }
      ],
      "source": [
        "scores= pd.Series(scores, name=\"scores_Actor\")\n",
        "scores.describe()"
      ]
    },
    {
      "cell_type": "code",
      "execution_count": 18,
      "metadata": {
        "pycharm": {
          "is_executing": true
        },
        "id": "2qcWppJ4kCCD",
        "colab": {
          "base_uri": "https://localhost:8080/",
          "height": 449
        },
        "outputId": "82bc6572-2f97-449b-e72f-ca346c6c8e77"
      },
      "outputs": [
        {
          "output_type": "display_data",
          "data": {
            "text/plain": [
              "<Figure size 640x480 with 1 Axes>"
            ],
            "image/png": "[encoded data removed]"
          },
          "metadata": {}
        }
      ],
      "source": [
        "fig, ax = plt.subplots(1, 1)\n",
        "_ = scores.plot(ax=ax, label=\"scores_Actor\")\n",
        "_ = (scores.rolling(window=100)\n",
        "           .mean()\n",
        "           .rename(\"Rolling Average\")\n",
        "           .plot(ax=ax))\n",
        "ax.legend()\n",
        "_ = ax.set_xlabel(\"Episode Number\")\n",
        "_ = ax.set_ylabel(\"scores_Actor\")"
      ]
    },
    {
      "cell_type": "code",
      "execution_count": 20,
      "metadata": {
        "pycharm": {
          "is_executing": true
        },
        "id": "VAIOdTmGkCCD"
      },
      "outputs": [],
      "source": [
        "def evaluate_agent(actor, env, n_eval_episodes, max_t):\n",
        "  \"\"\"Evaluates the agent's performance.\n",
        "\n",
        "  Args:\n",
        "    actor: The trained actor network.\n",
        "    env: The Gym environment.\n",
        "    n_eval_episodes: The number of episodes to run for evaluation.\n",
        "    max_t: The maximum number of steps per episode.\n",
        "\n",
        "  Returns:\n",
        "    A tuple containing the average reward and the average number of steps.\n",
        "  \"\"\"\n",
        "  all_rewards = []\n",
        "  all_steps = []\n",
        "\n",
        "  for i_episode in range(1, n_eval_episodes + 1):\n",
        "    state, _ = env.reset()\n",
        "    episode_reward = 0\n",
        "    for t in range(max_t):\n",
        "      state = torch.from_numpy(state).float().unsqueeze(0).to(device)\n",
        "      action, _ = actor.act(state)\n",
        "      state, reward, done, _, _ = env.step(action)\n",
        "      episode_reward += reward\n",
        "      if done:\n",
        "        break\n",
        "    all_rewards.append(episode_reward)\n",
        "    all_steps.append(t + 1)  # Add 1 to count the last step\n",
        "\n",
        "  avg_reward = np.mean(all_rewards)\n",
        "  avg_steps = np.mean(all_steps)\n",
        "  print(f\"Evaluation over {n_eval_episodes} episodes:\")\n",
        "  print(f\"Average Reward: {avg_reward:.2f}\")\n",
        "  print(f\"Average Steps: {avg_steps:.2f}\")\n",
        "\n",
        "  return avg_reward, avg_steps"
      ]
    },
    {
      "cell_type": "code",
      "source": [
        "avg_reward, avg_steps = evaluate_agent(cartpole_actor, env, cartpole_hyperparameters[\"n_evaluation_episodes\"], cartpole_hyperparameters[\"max_t\"])"
      ],
      "metadata": {
        "colab": {
          "base_uri": "https://localhost:8080/"
        },
        "id": "raaiwEVTvzwE",
        "outputId": "a8fd90e5-8090-48b9-816b-7b2e8eb3a94e"
      },
      "execution_count": 21,
      "outputs": [
        {
          "output_type": "stream",
          "name": "stdout",
          "text": [
            "Evaluation over 10 episodes:\n",
            "Average Reward: 219.90\n",
            "Average Steps: 219.90\n"
          ]
        }
      ]
    },
    {
      "cell_type": "code",
      "source": [],
      "metadata": {
        "id": "LtAzb1L6xlEv"
      },
      "execution_count": null,
      "outputs": []
    }
  ],
  "metadata": {
    "kernelspec": {
      "display_name": "Python 3",
      "name": "python3"
    },
    "language_info": {
      "codemirror_mode": {
        "name": "ipython",
        "version": 2
      },
      "file_extension": ".py",
      "mimetype": "text/x-python",
      "name": "python",
      "nbconvert_exporter": "python",
      "pygments_lexer": "ipython2",
      "version": "2.7.6"
    },
    "colab": {
      "provenance": [],
      "gpuType": "T4"
    },
    "accelerator": "GPU"
  },
  "nbformat": 4,
  "nbformat_minor": 0
}