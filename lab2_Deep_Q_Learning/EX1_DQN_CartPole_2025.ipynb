{
  "nbformat": 4,
  "nbformat_minor": 0,
  "metadata": {
    "colab": {
      "provenance": [],
      "gpuType": "T4"
    },
    "kernelspec": {
      "name": "python3",
      "display_name": "Python 3"
    },
    "language_info": {
      "name": "python"
    },
    "accelerator": "GPU"
  },
  "cells": [
    {
      "cell_type": "code",
      "source": [
        "!pip install gymnasium"
      ],
      "metadata": {
        "colab": {
          "base_uri": "https://localhost:8080/"
        },
        "id": "mYu0OlZ6sK7d",
        "outputId": "563b70ea-7666-4475-db10-33bd88a29675",
        "is_executing": true
      },
      "execution_count": 1,
      "outputs": [
        {
          "output_type": "stream",
          "name": "stdout",
          "text": [
            "Collecting gymnasium\n",
            "  Downloading gymnasium-1.0.0-py3-none-any.whl.metadata (9.5 kB)\n",
            "Requirement already satisfied: numpy>=1.21.0 in /usr/local/lib/python3.10/dist-packages (from gymnasium) (1.26.4)\n",
            "Requirement already satisfied: cloudpickle>=1.2.0 in /usr/local/lib/python3.10/dist-packages (from gymnasium) (3.1.0)\n",
            "Requirement already satisfied: typing-extensions>=4.3.0 in /usr/local/lib/python3.10/dist-packages (from gymnasium) (4.12.2)\n",
            "Collecting farama-notifications>=0.0.1 (from gymnasium)\n",
            "  Downloading Farama_Notifications-0.0.4-py3-none-any.whl.metadata (558 bytes)\n",
            "Downloading gymnasium-1.0.0-py3-none-any.whl (958 kB)\n",
            "\u001b[2K   \u001b[90m━━━━━━━━━━━━━━━━━━━━━━━━━━━━━━━━━━━━━━━━\u001b[0m \u001b[32m958.1/958.1 kB\u001b[0m \u001b[31m10.8 MB/s\u001b[0m eta \u001b[36m0:00:00\u001b[0m\n",
            "\u001b[?25hDownloading Farama_Notifications-0.0.4-py3-none-any.whl (2.5 kB)\n",
            "Installing collected packages: farama-notifications, gymnasium\n",
            "Successfully installed farama-notifications-0.0.4 gymnasium-1.0.0\n"
          ]
        }
      ]
    },
    {
      "cell_type": "code",
      "source": [
        "import gymnasium as gym\n",
        "import numpy as np\n",
        "import pandas as pd\n",
        "import matplotlib.pyplot as plt\n",
        "from collections import deque\n",
        "import random\n",
        "from tqdm import tqdm\n",
        "\n",
        "import torch\n",
        "from torch import nn\n",
        "import torch.nn.functional as F\n",
        "import torch.optim as optim\n"
      ],
      "metadata": {
        "id": "VpsHzyWmseVk",
        "is_executing": true
      },
      "execution_count": 2,
      "outputs": []
    },
    {
      "cell_type": "code",
      "source": [
        "device = torch.device(\"cuda:0\" if torch.cuda.is_available() else \"cpu\")"
      ],
      "metadata": {
        "id": "cQJgkAMMsEoK"
      },
      "execution_count": 3,
      "outputs": []
    },
    {
      "cell_type": "code",
      "source": [
        "device"
      ],
      "metadata": {
        "colab": {
          "base_uri": "https://localhost:8080/"
        },
        "id": "O1XrtM9pbqXx",
        "outputId": "bdc9f9f1-66fa-4351-fd9e-9dc4be3531cf"
      },
      "execution_count": 4,
      "outputs": [
        {
          "output_type": "execute_result",
          "data": {
            "text/plain": [
              "device(type='cuda', index=0)"
            ]
          },
          "metadata": {},
          "execution_count": 4
        }
      ]
    },
    {
      "cell_type": "code",
      "source": [
        "# Define model\n",
        "class QNetwork(nn.Module):\n",
        "\n",
        "    def __init__(self, state_shape, h1_nodes, action_space_size, seed):\n",
        "        \"\"\"\n",
        "        state_shape (int): Dimension of each state\n",
        "        h1_nodes (int): Number of nodes in first hidden layer\n",
        "        action_space_size (int): Dimension of each action\n",
        "        seed (int): Random seed\n",
        "        \"\"\"\n",
        "        super(QNetwork, self).__init__()\n",
        "        self.seed = torch.manual_seed(seed)\n",
        "\n",
        "        # Define fully connected layers\n",
        "        self.fc1 = nn.Linear(state_shape, h1_nodes)      # Input layer to hidden layer 1\n",
        "        self.fc2 = nn.Linear(h1_nodes, h1_nodes)         # Hidden layer 1 to hidden layer 2\n",
        "        self.fc3 = nn.Linear(h1_nodes, action_space_size) # Hidden layer 2 to output layer\n",
        "\n",
        "    def forward(self, state):\n",
        "        # Pass the input through each layer with ReLU activation in between\n",
        "        x = F.relu(self.fc1(state))\n",
        "        x = F.relu(self.fc2(x))\n",
        "        x = self.fc3(x)  # No activation function on the output layer for Q-values\n",
        "        return x"
      ],
      "metadata": {
        "id": "jQk7LBu5s3yo"
      },
      "execution_count": 5,
      "outputs": []
    },
    {
      "cell_type": "markdown",
      "source": [
        "### Explanation:\n",
        "\n",
        "- **Layers**: Three fully connected layers (`fc1`, `fc2`, and `fc3`) are defined using `nn.Linear`.\n",
        "  - `fc1`: Connects the input layer to the first hidden layer.\n",
        "  - `fc2`: Connects the first hidden layer to the second hidden layer.\n",
        "  - `fc3`: Connects the second hidden layer to the output layer, which will provide the Q-values for each action.\n",
        "\n",
        "- **Forward Propagation**:\n",
        "  - The ReLU activation function is applied after `fc1` and `fc2` to introduce non-linearity, helping the network capture complex relationships.\n",
        "  - The final layer (`fc3`) does not use an activation function, as it outputs Q-values, which are real-valued scores for each possible action.\n",
        "\n",
        "This setup should work effectively for approximating Q-values in a Deep Q-Learning network, providing a stable and efficient architecture. Let me know if you need further customization!\n"
      ],
      "metadata": {
        "id": "41QHcuzxolmn"
      }
    },
    {
      "cell_type": "code",
      "source": [
        "# Define memory for Experience Replay\n",
        "class ReplayMemory():\n",
        "    def __init__(self, maxlen, batch_size):\n",
        "        self.memory = deque([], maxlen=maxlen)\n",
        "        self.batch_size = batch_size\n",
        "\n",
        "    def append(self, experience):\n",
        "        self.memory.append(experience)\n",
        "\n",
        "    def sample(self):\n",
        "        # Randomly sample a batch of experiences from memory\n",
        "        return random.sample(self.memory, self.batch_size)\n",
        "\n",
        "    def __len__(self):\n",
        "        return len(self.memory)"
      ],
      "metadata": {
        "id": "W2a1w61qtpWV"
      },
      "execution_count": 6,
      "outputs": []
    },
    {
      "cell_type": "markdown",
      "source": [
        "### Explanation:\n",
        "\n",
        "**sample Method**:\n",
        "- **Functionality**: The `sample` method uses `random.sample` to retrieve a batch of experiences from `self.memory`, ensuring no repetition in the batch (sampling without replacement). The batch size is determined by `self.batch_size`.\n",
        "- **Purpose**: Sampling diverse experiences helps the agent learn from a wider variety of past states and actions, improving generalization and learning stability.\n",
        "\n",
        "**Usage**:\n",
        "- This method is called to retrieve a batch of experiences from the replay memory for training. By accessing a diverse set of past interactions, the agent can better understand and learn the dynamics of the environment.\n"
      ],
      "metadata": {
        "id": "OfFLr91MokEA"
      }
    },
    {
      "cell_type": "code",
      "source": [
        "#Define the Deep QLearning Agent\n",
        "class DQAgent():\n",
        "        \"\"\"Interacts with and learns from the environment.\"\"\"\n",
        "\n",
        "        def __init__(self, state_shape, action_space_size, seed, h1_nodes=64, learning_rate=5e-4, replay_memory_size=int(1e5),batch_size=64, UPDATE_EVERY=20, LEARN_EVERY=4,GAMMA=0.99):\n",
        "           \"\"\"Initialize an Agent object. \"\"\"\n",
        "\n",
        "           self.state_shape = state_shape\n",
        "           self.action_space_size = action_space_size\n",
        "           self.seed = random.seed(seed)\n",
        "           self.GAMMA = GAMMA\n",
        "           self.UPDATE_EVERY = UPDATE_EVERY\n",
        "           self.LERN_EVERY = LEARN_EVERY\n",
        "           self.h1_nodes = h1_nodes\n",
        "           self.learning_rate = learning_rate\n",
        "           self.batch_size = batch_size\n",
        "           self.replay_memory_size = replay_memory_size\n",
        "\n",
        "\n",
        "           # Q-Network\n",
        "           # create the local and the target networks\n",
        "           self.local_dqn = QNetwork(state_shape, h1_nodes, action_space_size, seed).to(device)\n",
        "           self.target_dqn = QNetwork(state_shape, h1_nodes, action_space_size, seed).to(device)\n",
        "\n",
        "           self.optimizer = optim.Adam(self.local_dqn.parameters(), lr=self.learning_rate)\n",
        "\n",
        "           # Replay memory\n",
        "           self.memory = ReplayMemory( self.replay_memory_size,self.batch_size)\n",
        "\n",
        "           # Initialize time step (for learn every LEARN_EVERY steps)\n",
        "           self.l_step = 0\n",
        "\n",
        "           # Initialize time step (for updating every UPDATE_EVERY steps)\n",
        "           self.t_step = 0\n",
        "\n",
        "        def state_to_dqn_input(self, state)->torch.Tensor:\n",
        "           return torch.from_numpy(state).float().unsqueeze(0).to(device)\n",
        "\n",
        "        #Returns actions for given state\n",
        "        #Epsilon-greedy action selection\n",
        "        def act(self, state, eps=0.):\n",
        "          if random.random() > eps:\n",
        "              #--add code here---\n",
        "              # Select action using the local Q-network (exploit)\n",
        "              state = self.state_to_dqn_input(state)\n",
        "              with torch.no_grad():\n",
        "                  action_values = self.local_dqn(state)\n",
        "              return np.argmax(action_values.cpu().data.numpy())\n",
        "          else:\n",
        "            # Select a random action (explore)\n",
        "              return random.choice(np.arange(self.action_space_size))\n",
        "\n",
        "            #--add code here---\n",
        "\n",
        "        def step(self, state, action, reward, next_state, done):\n",
        "          # Save experience in replay memory\n",
        "          self.memory.append((state, action, reward, next_state, done))\n",
        "\n",
        "          # Learn every `LEARN_EVERY` steps\n",
        "          self.l_step = (self.l_step + 1) % self.LERN_EVERY\n",
        "          if self.l_step == 0 and len(self.memory) > self.batch_size:\n",
        "              experiences = self.memory.sample()\n",
        "              self.learn(experiences)\n",
        "\n",
        "          # Update target network every `UPDATE_EVERY` steps\n",
        "          self.t_step = (self.t_step + 1) % self.UPDATE_EVERY\n",
        "          if self.t_step == 0:\n",
        "              self.target_dqn.load_state_dict(self.local_dqn.state_dict())\n",
        "\n",
        "        def learn(self, experiences):\n",
        "          q_target_list = []\n",
        "          q_expected_list = []\n",
        "\n",
        "          for state, action, reward, next_state, done in experiences:\n",
        "              # Convert state, next_state, action, and reward to tensors\n",
        "              state = torch.from_numpy(state).float().unsqueeze(0).to(device)\n",
        "              next_state = torch.from_numpy(next_state).float().unsqueeze(0).to(device)\n",
        "              action = torch.tensor([[action]]).to(device)\n",
        "              reward = torch.tensor([reward]).float().to(device)\n",
        "\n",
        "              # Calculate target Q-value\n",
        "              if done:\n",
        "                  q_target = reward\n",
        "              else:\n",
        "                  q_target = reward + self.GAMMA * self.target_dqn(next_state).max(1)[0].detach()\n",
        "\n",
        "              # Calculate expected Q-value from local network\n",
        "              q_local = self.local_dqn(state).gather(1, action)\n",
        "\n",
        "              q_target_list.append(q_target)\n",
        "              q_expected_list.append(q_local)\n",
        "\n",
        "          # Loss calculation (Mean Squared Error)\n",
        "          loss = F.mse_loss(torch.cat(q_expected_list), torch.cat(q_target_list).unsqueeze(1))\n",
        "          self.optimizer.zero_grad()\n",
        "          loss.backward()\n",
        "          self.optimizer.step()\n",
        "\n",
        ""
      ],
      "metadata": {
        "id": "YbRg16A-uGjZ"
      },
      "execution_count": 11,
      "outputs": []
    },
    {
      "cell_type": "markdown",
      "source": [
        "# Explanation of Key Sections\n",
        "\n",
        "### Q-Network Initialization:\n",
        "- Both `local_dqn` and `target_dqn` are instances of `QNetwork`. They define the structure of the neural network used for approximating the Q-values.\n",
        "- **`local_dqn`**: Used for selecting actions in real-time during gameplay.\n",
        "- **`target_dqn`**: Updated less frequently and provides stable target values for calculating the Q-targets.\n",
        "\n",
        "### Epsilon-Greedy Action Selection (`act` method):\n",
        "- **Exploit**: If a random number is greater than `eps`, the agent selects the action with the highest Q-value from the local Q-network. This maximizes the reward based on learned information.\n",
        "- **Explore**: Otherwise, the agent selects a random action, encouraging exploration of the action space. This is critical for learning an effective policy.\n",
        "\n",
        "### Experience Replay (`step` method):\n",
        "- **Memory Storage**: The agent saves experiences in the `ReplayMemory`, a fixed-size buffer that holds a set number of experiences.\n",
        "- **Learning Trigger**: The agent learns every `LEARN_EVERY` steps, provided there are enough experiences in memory to sample a batch.\n",
        "- **Target Network Update**: Every `UPDATE_EVERY` steps, the weights from `local_dqn` are copied to `target_dqn` to improve stability in learning.\n",
        "\n",
        "### Learning (`learn` method):\n",
        "- For each experience:\n",
        "  - **Q-Target Calculation**:\n",
        "    - If the episode is done (`done=True`), `q_target` is simply the reward.\n",
        "    - Otherwise, `q_target` includes the discounted maximum Q-value of the next state from the target network, factoring in the reward and future potential.\n",
        "  - **Q-Expected Calculation**:\n",
        "    - `q_local` is the expected Q-value for the selected action, computed from the local network.\n",
        "  - **Loss Calculation**: The **Mean Squared Error (MSE)** is used to compute the loss between `q_target` and `q_expected`. This error is then backpropagated to update the weights of `local_dqn`.\n",
        "\n",
        "### Summary\n",
        "This setup supports training the agent using Deep Q-Learning with Experience Replay. It balances exploration and exploitation, while the target network provides stable Q-targets to improve learning.\n"
      ],
      "metadata": {
        "id": "4bMRbyIukcG4"
      }
    },
    {
      "cell_type": "code",
      "outputs": [],
      "source": [
        "def dqn_train(agent, n_episodes=300, max_t=1000, eps_start=1.0, eps_end=0.01, eps_decay=0.995):\n",
        "\n",
        "    scores = []                        # list containing scores from each episode\n",
        "    scores_window = deque(maxlen=100)  # last 100 scores\n",
        "    eps = eps_start                    # initialize epsilon\n",
        "\n",
        "    for i_episode in  tqdm(range(1, n_episodes+1)):\n",
        "        state = env.reset()[0]\n",
        "\n",
        "        score = 0\n",
        "        for t in range(max_t):\n",
        "            # Select an action using the agent's policy (epsilon-greedy)\n",
        "            action = agent.act(state, eps)\n",
        "\n",
        "            # Apply the selected action to the environment\n",
        "            next_state, reward, done, _, _ = env.step(action)\n",
        "\n",
        "            # Store the current experience in replay memory\n",
        "            agent.step(state, action, reward, next_state, done)\n",
        "\n",
        "            # Move to the next state\n",
        "            state = next_state\n",
        "            score += reward\n",
        "            if done:\n",
        "                break\n",
        "\n",
        "        # Save the most recent score\n",
        "        scores_window.append(score)\n",
        "        scores.append(score)\n",
        "\n",
        "        # Decay epsilon (exploration factor)\n",
        "        eps = max(eps_end, eps_decay * eps)\n",
        "\n",
        "        # Print the average score every 50 episodes\n",
        "        if i_episode % 50 == 0:\n",
        "            print('\\rEpisode {}\\tAverage Score: {:.2f}'.format(i_episode, np.mean(scores_window)))\n",
        "\n",
        "    # Save the trained network weights\n",
        "    torch.save(agent.local_dqn.state_dict(), 'checkpoint.pth')\n",
        "    return scores"
      ],
      "metadata": {
        "id": "LaA6s3YkbVSt"
      },
      "execution_count": 12
    },
    {
      "cell_type": "markdown",
      "source": [
        "# Explanation of Each Code Section\n",
        "\n",
        "### 1. Initialize Scores and Epsilon\n",
        "- **`scores`**: A list that stores the score (total reward) from each episode, useful for tracking performance.\n",
        "- **`scores_window`**: A deque that keeps track of the last 100 scores. This helps in calculating the moving average, providing a smoother metric for progress.\n",
        "- **`eps`**: Epsilon, which controls the rate of exploration for epsilon-greedy action selection, is initialized with `eps_start`. Over time, this will decay to encourage exploitation of learned strategies.\n",
        "\n",
        "---\n",
        "\n",
        "### 2. Training Loop\n",
        "- **Episode Loop**: The outer loop iterates through a set number of episodes (`n_episodes`), simulating interactions with the environment.\n",
        "- **For Each Timestep (up to `max_t`)**:\n",
        "    - **Action Selection**: The agent chooses an action using `agent.act(state, eps)`. The `eps` parameter adjusts the likelihood of exploring versus exploiting.\n",
        "    - **Environment Step**: The selected action is applied in the environment with `env.step(action)`, returning `next_state`, `reward`, and `done`, which tells if the episode has ended.\n",
        "    - **Experience Storage**: The agent saves `(state, action, reward, next_state, done)` to the replay memory using `agent.step(...)`.\n",
        "    - **Episode Completion**: Checks if the episode is complete (i.e., `done=True`). If true, the episode loop breaks.\n",
        "\n",
        "---\n",
        "\n",
        "### 3. Track and Print Scores\n",
        "- **Epsilon Decay**: `eps` decays after each episode, following a decay rate (`eps_decay`). This reduces exploration gradually, encouraging the agent to leverage learned strategies as training progresses.\n",
        "- **Score Logging**: Every 50 episodes, it prints the average score over the last 100 episodes to track the agent’s performance.\n",
        "\n",
        "---\n",
        "\n",
        "### 4. Save Trained Model\n",
        "- After training, the function saves the trained weights of `local_dqn` to a file named `checkpoint.pth`. This file can later be loaded to test or continue training the model without restarting.\n",
        "\n",
        "### Summary\n",
        "This function returns `scores`, which can be plotted to visualize performance across episodes and observe the agent’s improvement over time.\n",
        "\n",
        "Let me know if you need help with additional configurations or functionality!\n"
      ],
      "metadata": {
        "id": "OTasbJLOlO_d"
      }
    },
    {
      "cell_type": "code",
      "source": [
        "env = gym.make('CartPole-v1')\n",
        "print(env.reset())\n",
        "\n",
        "print('State shape: ', env.observation_space.shape[0])\n",
        "print('Number of actions: ', env.action_space.n)"
      ],
      "metadata": {
        "colab": {
          "base_uri": "https://localhost:8080/"
        },
        "id": "dgqM0KQY8474",
        "outputId": "1927407e-04be-4090-87bc-c8b31ad91fb0"
      },
      "execution_count": 13,
      "outputs": [
        {
          "output_type": "stream",
          "name": "stdout",
          "text": [
            "(array([ 0.00767583,  0.01399451, -0.02383412, -0.00131941], dtype=float32), {})\n",
            "State shape:  4\n",
            "Number of actions:  2\n"
          ]
        }
      ]
    },
    {
      "cell_type": "code",
      "source": [
        "agent = DQAgent(state_shape=env.observation_space.shape[0], action_space_size=env.action_space.n, seed=0)\n",
        "scores = dqn_train(agent)"
      ],
      "metadata": {
        "colab": {
          "base_uri": "https://localhost:8080/"
        },
        "id": "GQ53wv7a-fEU",
        "outputId": "da94404c-32fc-486b-83f8-32aa81961060"
      },
      "execution_count": 14,
      "outputs": [
        {
          "output_type": "stream",
          "name": "stderr",
          "text": [
            " 17%|█▋        | 51/300 [00:14<00:59,  4.21it/s]"
          ]
        },
        {
          "output_type": "stream",
          "name": "stdout",
          "text": [
            "\rEpisode 50\tAverage Score: 18.34\n"
          ]
        },
        {
          "output_type": "stream",
          "name": "stderr",
          "text": [
            " 33%|███▎      | 100/300 [00:24<00:46,  4.31it/s]"
          ]
        },
        {
          "output_type": "stream",
          "name": "stdout",
          "text": [
            "\rEpisode 100\tAverage Score: 16.52\n"
          ]
        },
        {
          "output_type": "stream",
          "name": "stderr",
          "text": [
            " 50%|█████     | 150/300 [00:45<02:07,  1.18it/s]"
          ]
        },
        {
          "output_type": "stream",
          "name": "stdout",
          "text": [
            "\rEpisode 150\tAverage Score: 22.63\n"
          ]
        },
        {
          "output_type": "stream",
          "name": "stderr",
          "text": [
            " 67%|██████▋   | 200/300 [01:33<01:48,  1.08s/it]"
          ]
        },
        {
          "output_type": "stream",
          "name": "stdout",
          "text": [
            "\rEpisode 200\tAverage Score: 48.63\n"
          ]
        },
        {
          "output_type": "stream",
          "name": "stderr",
          "text": [
            " 83%|████████▎ | 250/300 [02:55<01:27,  1.75s/it]"
          ]
        },
        {
          "output_type": "stream",
          "name": "stdout",
          "text": [
            "\rEpisode 250\tAverage Score: 89.63\n"
          ]
        },
        {
          "output_type": "stream",
          "name": "stderr",
          "text": [
            "100%|██████████| 300/300 [04:38<00:00,  1.08it/s]"
          ]
        },
        {
          "output_type": "stream",
          "name": "stdout",
          "text": [
            "\rEpisode 300\tAverage Score: 127.40\n"
          ]
        },
        {
          "output_type": "stream",
          "name": "stderr",
          "text": [
            "\n"
          ]
        }
      ]
    },
    {
      "cell_type": "code",
      "source": [
        "scores = pd.Series(scores, name=\"scores\")\n",
        "scores.describe()\n",
        "fig, ax = plt.subplots(1, 1)\n",
        "_ = scores.plot(ax=ax, label=\"Scores\")\n",
        "_ = (scores.rolling(window=100)\n",
        "           .mean()\n",
        "           .rename(\"Rolling Average\")\n",
        "           .plot(ax=ax))\n",
        "ax.legend()\n",
        "_ = ax.set_xlabel(\"Episode Number\")\n",
        "_ = ax.set_ylabel(\"Score\")"
      ],
      "metadata": {
        "id": "u3kPJmXM4Ss4",
        "colab": {
          "base_uri": "https://localhost:8080/",
          "height": 449
        },
        "outputId": "a100366c-d4cf-42cd-bd96-41715e96c130"
      },
      "execution_count": 15,
      "outputs": [
        {
          "output_type": "display_data",
          "data": {
            "text/plain": [
              "<Figure size 640x480 with 1 Axes>"
            ],
            "image/png": "[encoded data removed]"
          },
          "metadata": {}
        }
      ]
    },
    {
      "cell_type": "code",
      "source": [],
      "metadata": {
        "id": "sY3xgGknluJ0"
      },
      "execution_count": null,
      "outputs": []
    }
  ]
}